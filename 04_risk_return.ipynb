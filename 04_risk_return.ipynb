{
 "cells": [
  {
   "cell_type": "markdown",
   "metadata": {},
   "source": [
    "# Portfolio Risk-Return Analysis\n",
    "This notebook demonstrates key concepts in portfolio analysis by visualizing the risk-return relationship of different stocks.\n",
    "\n",
    "## Setup\n",
    "First, let's import the necessary libraries:"
   ]
  },
  {
   "cell_type": "code",
   "execution_count": null,
   "metadata": {},
   "outputs": [],
   "source": [
    "import numpy as np\n",
    "import pandas as pd\n",
    "import yfinance as yf\n",
    "import matplotlib.pyplot as plt\n",
    "import seaborn as sns"
   ]
  },
  {
   "cell_type": "markdown",
   "metadata": {},
   "source": [
    "## Data Collection\n",
    "We'll analyze some major stocks plus the market index (SPY). Let's create a function to fetch and process our data:"
   ]
  },
  {
   "cell_type": "code",
   "execution_count": null,
   "metadata": {},
   "outputs": [],
   "source": [
    "# Define our stock tickers\n",
    "tickers = ['AAPL', 'MSFT', 'JNJ', 'JPM', 'SPY']\n",
    "\n",
    "\n",
    "def get_stock_data(tickers, start_date='2020-01-01', end_date='2023-12-31'):\n",
    "    \"\"\"\n",
    "    Fetches monthly returns for given stock tickers\n",
    "    \"\"\"\n",
    "    data = pd.DataFrame()\n",
    "\n",
    "    for ticker in tickers:\n",
    "        # Download stock data\n",
    "        stock = yf.download(ticker, start=start_date,\n",
    "                            end=end_date, progress=False)\n",
    "        # Calculate monthly returns\n",
    "        monthly_returns = stock['Adj Close'].resample('M').last().pct_change()\n",
    "        data[ticker] = monthly_returns\n",
    "\n",
    "    return data\n",
    "\n",
    "\n",
    "# Fetch our data\n",
    "returns_df = get_stock_data(tickers)"
   ]
  },
  {
   "cell_type": "markdown",
   "metadata": {},
   "source": [
    "## Calculate Risk and Return Metrics\n",
    "Now let's calculate annualized returns and risks for each stock:"
   ]
  },
  {
   "cell_type": "code",
   "execution_count": null,
   "metadata": {},
   "outputs": [],
   "source": [
    "def calculate_metrics(returns_df):\n",
    "    \"\"\"\n",
    "    Calculates annualized returns and risks for each stock\n",
    "    \"\"\"\n",
    "    # Calculate annualized metrics\n",
    "    annual_returns = returns_df.mean() * 12 * 100  # Convert to percentage\n",
    "    annual_risk = returns_df.std() * np.sqrt(12) * 100  # Convert to percentage\n",
    "\n",
    "    metrics = pd.DataFrame({\n",
    "        'Annual Return (%)': annual_returns,\n",
    "        'Annual Risk (%)': annual_risk\n",
    "    })\n",
    "\n",
    "    return metrics\n",
    "\n",
    "\n",
    "# Calculate metrics\n",
    "metrics = calculate_metrics(returns_df)\n",
    "print(\"\\nRisk-Return Metrics:\")\n",
    "display(metrics)"
   ]
  },
  {
   "cell_type": "markdown",
   "metadata": {},
   "source": [
    "\n",
    "## Visualize Risk-Return Relationship\n",
    "Let's create a scatter plot to visualize the risk-return tradeoff:\n"
   ]
  },
  {
   "cell_type": "code",
   "execution_count": null,
   "metadata": {},
   "outputs": [],
   "source": [
    "def plot_risk_return(metrics, title=\"Risk-Return Profile\"):\n",
    "    \"\"\"\n",
    "    Creates scatter plot of risk vs return\n",
    "    \"\"\"\n",
    "    plt.figure(figsize=(10, 6))\n",
    "\n",
    "    # Create scatter plot\n",
    "    plt.scatter(metrics['Annual Risk (%)'], metrics['Annual Return (%)'],\n",
    "                s=100, alpha=0.6)\n",
    "\n",
    "    # Add labels for each point\n",
    "    for idx, row in metrics.iterrows():\n",
    "        plt.annotate(idx,\n",
    "                     (row['Annual Risk (%)'], row['Annual Return (%)']),\n",
    "                     xytext=(5, 5), textcoords='offset points')\n",
    "\n",
    "    # Add labels and title\n",
    "    plt.xlabel('Annual Risk (%)')\n",
    "    plt.ylabel('Annual Return (%)')\n",
    "    plt.title(title)\n",
    "\n",
    "    # Add a grid\n",
    "    plt.grid(True, linestyle='--', alpha=0.7)\n",
    "\n",
    "    plt.tight_layout()\n",
    "    plt.show()\n",
    "\n",
    "\n",
    "# Create the plot\n",
    "plot_risk_return(metrics)"
   ]
  },
  {
   "cell_type": "markdown",
   "metadata": {},
   "source": [
    "\n",
    "## Analyze Correlations\n",
    "Understanding correlations between assets is crucial for diversification:\n"
   ]
  },
  {
   "cell_type": "code",
   "execution_count": null,
   "metadata": {},
   "outputs": [],
   "source": [
    "def plot_correlation_matrix(returns_df):\n",
    "    \"\"\"\n",
    "    Creates a correlation matrix heatmap\n",
    "    \"\"\"\n",
    "    corr_matrix = returns_df.corr()\n",
    "\n",
    "    plt.figure(figsize=(10, 8))\n",
    "    sns.heatmap(corr_matrix, annot=True, cmap='coolwarm', center=0,\n",
    "                fmt='.2f', square=True)\n",
    "    plt.title('Correlation Matrix')\n",
    "    plt.tight_layout()\n",
    "    plt.show()\n",
    "\n",
    "    return corr_matrix\n",
    "\n",
    "\n",
    "# Calculate and display correlations\n",
    "corr_matrix = plot_correlation_matrix(returns_df)"
   ]
  },
  {
   "cell_type": "markdown",
   "metadata": {
    "vscode": {
     "languageId": "plaintext"
    }
   },
   "source": [
    "## Exercise for Students\n",
    "Try modifying this analysis by:\n",
    "1. Changing the time period (start_date and end_date)\n",
    "2. Adding different stocks to the analysis\n",
    "3. Calculating the Sharpe Ratio (assuming a risk-free rate)\n",
    "\n",
    "## Discussion Questions\n",
    "1. Which stock has the highest Sharpe Ratio?\n",
    "2. How does the market index (SPY) compare to individual stocks?\n",
    "3. What patterns do you notice in the correlation matrix?"
   ]
  }
 ],
 "metadata": {
  "language_info": {
   "name": "python"
  }
 },
 "nbformat": 4,
 "nbformat_minor": 2
}
