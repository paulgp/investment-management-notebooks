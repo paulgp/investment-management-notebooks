{
 "cells": [
  {
   "cell_type": "code",
   "execution_count": null,
   "metadata": {
    "vscode": {
     "languageId": "plaintext"
    }
   },
   "outputs": [],
   "source": [
    "# Constructing returns data from prices\n",
    "\n",
    "import yfinance as yf\n",
    "import pandas as pd\n",
    "import numpy as np\n",
    "import seaborn as sns\n",
    "import matplotlib.pyplot as plt\n",
    "\n",
    "# Download some example data\n",
    "spy = yf.download('SPY', start='2010-01-01')['Adj Close']\n",
    "\n",
    "# Calculate different types of returns\n",
    "returns = pd.DataFrame()\n",
    "returns['simple_ret'] = spy.pct_change()*100\n",
    "returns['log_ret'] = np.log(spy/spy.shift(1))*100\n",
    "\n",
    "\n",
    "# Plot the simple returns\n",
    "ax = sns.histplot(returns['simple_ret'].dropna(), label=\"SPY\")  \n",
    "plt.title('Density Plot of Simple Returns')\n",
    "plt.xlabel('Simple Returns')\n",
    "plt.ylabel('Density')\n",
    "plt.legend()\n",
    "plt.show()\n",
    "\n",
    "\n",
    "\n",
    "# Calculate key statistics\n",
    "print(\"Simple Returns Statistics (in percentages):\")\n",
    "print(f\"Mean: {returns.simple_ret.mean():.4f}\")\n",
    "print(f\"Std Dev: {returns.simple_ret.std():.4f}\")\n",
    "print(f\"Skewness: {returns.simple_ret.skew():.4f}\")\n",
    "print(f\"Kurtosis: {returns.simple_ret.kurtosis():.4f}\")\n",
    "\n",
    "# Calculate key statistics\n",
    "print(\"Log Returns Statistics:\")\n",
    "print(f\"Mean: {returns.log_ret.mean():.4f}\")\n",
    "print(f\"Std Dev: {returns.log_ret.std():.4f}\")\n",
    "print(f\"Skewness: {returns.log_ret.skew():.4f}\")\n",
    "print(f\"Kurtosis: {returns.log_ret.kurtosis():.4f}\")\n",
    "\n",
    "# Calculate rolling statistics\n",
    "rolling_stats = pd.DataFrame()\n",
    "rolling_stats['rolling_mean'] = returns.simple_ret.rolling(252).mean()\n",
    "rolling_stats['rolling_vol'] = returns.simple_ret.rolling(252).std()\n",
    "\n",
    "# Calculate Value at Risk (VaR)\n",
    "confidence_level = 0.05\n",
    "VaR = np.percentile(returns.simple_ret.dropna(), confidence_level*100)\n",
    "print(f\"\\n{confidence_level*100}% VaR: {VaR:.4f}\")\n",
    "\n",
    "# Calculate Expected Shortfall (ES)\n",
    "ES = returns.simple_ret[returns.simple_ret <= VaR].mean()\n",
    "print(f\"Expected Shortfall: {ES:.4f}\")\n",
    "ax = sns.histplot(returns['simple_ret'].dropna(), label=\"SPY\")  \n",
    "plt.title('Density Plot of Simple Returns')\n",
    "plt.xlabel('Simple Returns')\n",
    "plt.ylabel('Density')\n",
    "plt.legend()\n",
    "ax.axvline(x=VaR, color='red', linestyle='--', label=f'{confidence_level*100}% VaR')\n",
    "plt.show()"
   ]
  }
 ],
 "metadata": {
  "language_info": {
   "name": "python"
  }
 },
 "nbformat": 4,
 "nbformat_minor": 2
}
