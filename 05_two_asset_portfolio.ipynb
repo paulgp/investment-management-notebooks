{
 "cells": [
  {
   "cell_type": "markdown",
   "metadata": {},
   "source": [
    "# Two-Asset Portfolio Analysis\n",
    "This notebook demonstrates how combining two assets in different proportions affects portfolio risk and return.\n",
    "\n",
    "## Setup and Imports\n"
   ]
  },
  {
   "cell_type": "code",
   "execution_count": null,
   "metadata": {},
   "outputs": [],
   "source": [
    "import numpy as np\n",
    "import pandas as pd\n",
    "import yfinance as yf\n",
    "import matplotlib.pyplot as plt\n",
    "import seaborn as sns\n",
    "\n",
    "# Set plotting style\n",
    "plt.style.use('seaborn')"
   ]
  },
  {
   "cell_type": "markdown",
   "metadata": {},
   "source": [
    "## Data Collection\n",
    "Let's create functions to fetch and process our data:"
   ]
  },
  {
   "cell_type": "code",
   "execution_count": null,
   "metadata": {},
   "outputs": [],
   "source": [
    "def get_stock_data(ticker1, ticker2, start_date='2020-01-01', end_date='2023-12-31'):\n",
    "    \"\"\"\n",
    "    Fetches monthly returns for two stocks\n",
    "    \"\"\"\n",
    "    # Download data for both stocks\n",
    "    stock1 = yf.download(ticker1, start=start_date,\n",
    "                         end=end_date, progress=False)\n",
    "    stock2 = yf.download(ticker2, start=start_date,\n",
    "                         end=end_date, progress=False)\n",
    "\n",
    "    # Calculate monthly returns\n",
    "    returns1 = stock1['Adj Close'].resample('M').last().pct_change()\n",
    "    returns2 = stock2['Adj Close'].resample('M').last().pct_change()\n",
    "\n",
    "    # Combine into a DataFrame\n",
    "    returns_df = pd.DataFrame({\n",
    "        ticker1: returns1,\n",
    "        ticker2: returns2\n",
    "    })\n",
    "\n",
    "    return returns_df.dropna()\n",
    "\n",
    "\n",
    "# Example usage\n",
    "ticker1, ticker2 = 'AAPL', 'JNJ'  # Technology vs Healthcare\n",
    "returns_df = get_stock_data(ticker1, ticker2)"
   ]
  },
  {
   "cell_type": "markdown",
   "metadata": {},
   "source": [
    "## Calculate Portfolio Metrics\n",
    "Let's create functions to calculate portfolio return, risk, and other metrics:\n"
   ]
  },
  {
   "cell_type": "code",
   "execution_count": null,
   "metadata": {},
   "outputs": [],
   "source": [
    "def calculate_portfolio_metrics(returns_df, weights):\n",
    "    \"\"\"\n",
    "    Calculates portfolio return and risk for given weights\n",
    "    \"\"\"\n",
    "    # Calculate expected returns (annualized)\n",
    "    returns = returns_df.mean() * 12\n",
    "    portfolio_return = np.sum(returns * weights)\n",
    "\n",
    "    # Calculate portfolio risk (annualized)\n",
    "    cov_matrix = returns_df.cov() * 12\n",
    "    portfolio_risk = np.sqrt(np.dot(weights.T, np.dot(cov_matrix, weights)))\n",
    "\n",
    "    # Calculate correlation\n",
    "    correlation = returns_df.corr().iloc[0, 1]\n",
    "\n",
    "    return portfolio_return, portfolio_risk, correlation\n",
    "\n",
    "\n",
    "# Calculate metrics for equal weights\n",
    "weights = np.array([0.5, 0.5])\n",
    "port_return, port_risk, correlation = calculate_portfolio_metrics(\n",
    "    returns_df, weights)\n",
    "\n",
    "print(f\"Portfolio Metrics (Equal Weights):\")\n",
    "print(f\"Expected Return: {port_return*100:.2f}%\")\n",
    "print(f\"Risk (Standard Deviation): {port_risk*100:.2f}%\")\n",
    "print(f\"Correlation: {correlation:.2f}\")"
   ]
  },
  {
   "cell_type": "markdown",
   "metadata": {},
   "source": [
    "\n",
    "## Generate Efficient Frontier\n",
    "Let's plot different portfolio combinations:"
   ]
  },
  {
   "cell_type": "code",
   "execution_count": null,
   "metadata": {},
   "outputs": [],
   "source": [
    "def generate_efficient_frontier(returns_df, num_portfolios=100):\n",
    "    \"\"\"\n",
    "    Generates points along the efficient frontier\n",
    "    \"\"\"\n",
    "    # Arrays to store returns and volatilities\n",
    "    portfolio_returns = []\n",
    "    portfolio_risks = []\n",
    "    portfolio_weights = []\n",
    "\n",
    "    for i in range(num_portfolios):\n",
    "        # Generate random weights\n",
    "        weight = i / (num_portfolios - 1)\n",
    "        weights = np.array([weight, 1-weight])\n",
    "\n",
    "        # Calculate portfolio metrics\n",
    "        port_return, port_risk, _ = calculate_portfolio_metrics(\n",
    "            returns_df, weights)\n",
    "\n",
    "        # Store results\n",
    "        portfolio_returns.append(port_return)\n",
    "        portfolio_risks.append(port_risk)\n",
    "        portfolio_weights.append(weights[0])\n",
    "\n",
    "    return np.array(portfolio_returns), np.array(portfolio_risks), np.array(portfolio_weights)\n",
    "\n",
    "\n",
    "# Generate and plot efficient frontier\n",
    "returns, risks, weights = generate_efficient_frontier(returns_df)\n",
    "\n",
    "plt.figure(figsize=(12, 8))\n",
    "scatter = plt.scatter(risks*100, returns*100, c=weights, cmap='viridis')\n",
    "plt.colorbar(scatter, label='Weight of Asset 1')\n",
    "\n",
    "# Plot individual assets\n",
    "asset1_return = returns_df[ticker1].mean() * 12\n",
    "asset1_risk = returns_df[ticker1].std() * np.sqrt(12)\n",
    "asset2_return = returns_df[ticker2].mean() * 12\n",
    "asset2_risk = returns_df[ticker2].std() * np.sqrt(12)\n",
    "\n",
    "plt.scatter([asset1_risk*100], [asset1_return*100],\n",
    "            color='red', marker='*', s=200, label=ticker1)\n",
    "plt.scatter([asset2_risk*100], [asset2_return*100],\n",
    "            color='blue', marker='*', s=200, label=ticker2)\n",
    "\n",
    "plt.xlabel('Portfolio Risk (%)')\n",
    "plt.ylabel('Expected Return (%)')\n",
    "plt.title('Efficient Frontier of Two-Asset Portfolio')\n",
    "plt.legend()\n",
    "plt.grid(True)\n",
    "plt.show()"
   ]
  },
  {
   "cell_type": "markdown",
   "metadata": {},
   "source": [
    "\n",
    "## Analyze Optimal Portfolios\n",
    "Let's find and analyze some key portfolio combinations:\n"
   ]
  },
  {
   "cell_type": "code",
   "execution_count": null,
   "metadata": {},
   "outputs": [],
   "source": [
    "def find_optimal_portfolios(returns_df, rf_rate=0.03):\n",
    "    \"\"\"\n",
    "    Finds minimum variance and maximum Sharpe ratio portfolios\n",
    "    \"\"\"\n",
    "    returns, risks, weights = generate_efficient_frontier(\n",
    "        returns_df, num_portfolios=1000)\n",
    "\n",
    "    # Find minimum variance portfolio\n",
    "    min_var_idx = np.argmin(risks)\n",
    "    min_var_return = returns[min_var_idx]\n",
    "    min_var_risk = risks[min_var_idx]\n",
    "    min_var_weight = weights[min_var_idx]\n",
    "\n",
    "    # Find maximum Sharpe ratio portfolio\n",
    "    sharpe_ratios = (returns - rf_rate) / risks\n",
    "    max_sharpe_idx = np.argmax(sharpe_ratios)\n",
    "    max_sharpe_return = returns[max_sharpe_idx]\n",
    "    max_sharpe_risk = risks[max_sharpe_idx]\n",
    "    max_sharpe_weight = weights[max_sharpe_idx]\n",
    "\n",
    "    return {\n",
    "        'Minimum Variance': {\n",
    "            'weight1': min_var_weight,\n",
    "            'weight2': 1 - min_var_weight,\n",
    "            'return': min_var_return,\n",
    "            'risk': min_var_risk\n",
    "        },\n",
    "        'Maximum Sharpe': {\n",
    "            'weight1': max_sharpe_weight,\n",
    "            'weight2': 1 - max_sharpe_weight,\n",
    "            'return': max_sharpe_return,\n",
    "            'risk': max_sharpe_risk\n",
    "        }\n",
    "    }\n",
    "\n",
    "\n",
    "# Find optimal portfolios\n",
    "optimal_portfolios = find_optimal_portfolios(returns_df)\n",
    "\n",
    "# Print results\n",
    "print(\"\\nOptimal Portfolios:\")\n",
    "for portfolio_type, metrics in optimal_portfolios.items():\n",
    "    print(f\"\\n{portfolio_type} Portfolio:\")\n",
    "    print(f\"{ticker1} Weight: {metrics['weight1']*100:.1f}%\")\n",
    "    print(f\"{ticker2} Weight: {metrics['weight2']*100:.1f}%\")\n",
    "    print(f\"Expected Return: {metrics['return']*100:.2f}%\")\n",
    "    print(f\"Risk: {metrics['risk']*100:.2f}%\")"
   ]
  },
  {
   "cell_type": "markdown",
   "metadata": {},
   "source": [
    "## Interactive Analysis\n",
    "Let's create a function to analyze any weight combination:\n"
   ]
  },
  {
   "cell_type": "code",
   "execution_count": null,
   "metadata": {},
   "outputs": [],
   "source": [
    "def analyze_portfolio_weight(returns_df, weight1):\n",
    "    \"\"\"\n",
    "    Analyzes portfolio metrics for a given weight combination\n",
    "    \"\"\"\n",
    "    weights = np.array([weight1, 1-weight1])\n",
    "    port_return, port_risk, corr = calculate_portfolio_metrics(\n",
    "        returns_df, weights)\n",
    "\n",
    "    print(f\"\\nPortfolio Analysis (Weight in {ticker1}: {weight1*100:.1f}%):\")\n",
    "    print(f\"Expected Return: {port_return*100:.2f}%\")\n",
    "    print(f\"Risk: {port_risk*100:.2f}%\")\n",
    "    print(f\"Correlation between assets: {corr:.2f}\")\n",
    "\n",
    "\n",
    "# Example usage\n",
    "analyze_portfolio_weight(returns_df, 0.7)"
   ]
  },
  {
   "cell_type": "markdown",
   "metadata": {},
   "source": [
    "\n",
    "## Exercise for Students\n",
    "1. Try different pairs of stocks and observe how correlation affects diversification benefits\n",
    "2. Analyze how different risk-free rates affect the optimal portfolio\n",
    "3. Compare technology pairs vs cross-sector pairs\n",
    "4. Calculate portfolio metrics for different time periods\n",
    "\n",
    "## Discussion Questions\n",
    "1. How does correlation between assets affect the shape of the efficient frontier?\n",
    "2. Why might the minimum variance portfolio not always be the optimal choice?\n",
    "3. How do major market events affect the stability of these calculations?\n",
    "4. What assumptions are we making in this analysis?\n"
   ]
  }
 ],
 "metadata": {
  "language_info": {
   "name": "python"
  }
 },
 "nbformat": 4,
 "nbformat_minor": 2
}
