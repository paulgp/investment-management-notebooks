{
 "cells": [
  {
   "cell_type": "code",
   "execution_count": null,
   "metadata": {},
   "outputs": [],
   "source": [
    "import yfinance as yf\n",
    "import pandas as pd\n",
    "import numpy as np\n",
    "\n",
    "# Download data with volume\n",
    "tickers = ['AAPL', 'NVDA', 'SPY', 'GME', 'KSS']  # Mix of different types of stocks\n",
    "data = {}\n",
    "\n",
    "for ticker in tickers:\n",
    "    temp = yf.download(ticker, start='2010-01-01', end='2020-01-01')\n",
    "    data[ticker] = temp[['Volume', 'High', 'Low', 'Close']].copy()\n",
    "\n",
    "    # Calculate daily price range as proxy for volatility / bid-ask spread\n",
    "    data[ticker].loc[:, 'daily_range'] = (data[ticker]['High'] - data[ticker]['Low'])/data[ticker]['Close']\n",
    "\n",
    "\n",
    "    # Calculate rolling measures\n",
    "    data[ticker]['avg_volume'] = data[ticker]['Volume'].rolling(20).mean()\n",
    "    data[ticker]['avg_range'] = data[ticker]['daily_range'].rolling(20).mean()\n",
    "\n",
    "# Compare market quality metrics\n",
    "for ticker in tickers:\n",
    "    print(f\"\\nMetrics for {ticker}:\")\n",
    "\n",
    "    avg_volume = data[ticker]['Volume'].mean().iloc[0]\n",
    "    print(f\"Average Daily Volume: {avg_volume: ,.0f} shares\")\n",
    "\n",
    "    avg_range = data[ticker]['daily_range'].mean()\n",
    "    print(f\"Average Daily Range %: {avg_range*100: .2f}%\")"
   ]
  }
 ],
 "metadata": {
  "kernelspec": {
   "display_name": "Python 3",
   "language": "python",
   "name": "python3"
  },
  "language_info": {
   "name": "python",
   "version": "3.9.6"
  }
 },
 "nbformat": 4,
 "nbformat_minor": 2
}
