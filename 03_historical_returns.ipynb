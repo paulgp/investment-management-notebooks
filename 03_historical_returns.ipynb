{
 "cells": [
  {
   "cell_type": "code",
   "execution_count": null,
   "metadata": {
    "vscode": {
     "languageId": "plaintext"
    }
   },
   "outputs": [],
   "source": [
    "import pandas_datareader.data as web\n",
    "import pandas as pd\n",
    "import numpy as np\n",
    "from scipy import stats\n",
    "\n",
    "# Get Fama-French data\n",
    "ff = web.DataReader('F-F_Research_Data_Factors', 'famafrench', start='1950')[0]\n",
    "ff = ff/100  # Convert to decimal\n",
    "\n",
    "# Calculate rolling measures\n",
    "rolling_window = 60  # 5 years of monthly data\n",
    "rolling_premium = ff['Mkt-RF'].rolling(rolling_window).mean()\n",
    "rolling_vol = ff['Mkt-RF'].rolling(rolling_window).std() * np.sqrt(12)  # Annualize\n",
    "rolling_sharpe = rolling_premium / rolling_vol\n",
    "\n",
    "# Calculate confidence intervals for market premium\n",
    "mean_premium = ff['Mkt-RF'].mean() * 12  # Annualized\n",
    "std_error = ff['Mkt-RF'].std() / np.sqrt(len(ff)) * np.sqrt(12)\n",
    "conf_interval = stats.t.interval(0.95, len(ff)-1, mean_premium, std_error)\n",
    "\n",
    "print(\"Market Risk Premium Analysis\")\n",
    "print(f\"Average Annual Premium: {mean_premium:.2%}\")\n",
    "print(f\"95% Confidence Interval: ({conf_interval[0]:.2%}, {conf_interval[1]:.2%})\")\n",
    "\n",
    "# Test if premium is significantly different from various levels\n",
    "test_premium = 0.04  # Test if premium is different from 4%\n",
    "t_stat = (mean_premium - test_premium) / std_error\n",
    "p_value = 2 * (1 - stats.t.cdf(abs(t_stat), len(ff)-1))\n",
    "print(f\"\\nTest if premium differs from {test_premium:.0%}\")\n",
    "print(f\"t-statistic: {t_stat:.2f}\")\n",
    "print(f\"p-value: {p_value:.4f}\")"
   ]
  }
 ],
 "metadata": {
  "language_info": {
   "name": "python"
  }
 },
 "nbformat": 4,
 "nbformat_minor": 2
}
