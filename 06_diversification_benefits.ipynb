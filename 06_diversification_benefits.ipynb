{
 "cells": [
  {
   "cell_type": "markdown",
   "metadata": {},
   "source": [
    "# Portfolio Diversification Benefits\n",
    "This notebook demonstrates how adding more stocks to a portfolio can reduce risk through diversification.\n",
    "\n",
    "## Setup and Imports\n",
    "First, let's import our required libraries:"
   ]
  },
  {
   "cell_type": "code",
   "execution_count": null,
   "metadata": {},
   "outputs": [],
   "source": [
    "import numpy as np\n",
    "import pandas as pd\n",
    "import yfinance as yf\n",
    "import matplotlib.pyplot as plt\n",
    "import seaborn as sns"
   ]
  },
  {
   "cell_type": "markdown",
   "metadata": {},
   "source": [
    "## Data Collection\n",
    "We'll use a broader set of stocks from different sectors:"
   ]
  },
  {
   "cell_type": "code",
   "execution_count": null,
   "metadata": {},
   "outputs": [],
   "source": [
    "# Define a larger set of stocks from different sectors\n",
    "tickers = [\n",
    "    'AAPL', 'JPM', 'JNJ', 'XOM', 'PG', 'WMT', 'MSFT', 'BAC', 'PFE', 'CVX',\n",
    "    'GOOGL', 'AMZN', 'TSLA', 'NVDA', 'META', 'V', 'DIS', 'NFLX', 'KO', 'PEP',\n",
    "    'CSCO', 'INTC', 'MRK', 'T', 'BA'\n",
    "]\n",
    "\n",
    "\n",
    "\n",
    "\n",
    "\n",
    "\n",
    "\n",
    "def get_stock_data(tickers, start_date='2020-01-01', end_date='2023-12-31'):\n",
    "    \"\"\"\n",
    "    Fetches monthly returns for given stock tickers\n",
    "    \"\"\"\n",
    "    data = pd.DataFrame()\n",
    "\n",
    "    for ticker in tickers:\n",
    "        stock = yf.download(ticker, start=start_date,\n",
    "                            end=end_date, progress=False)\n",
    "        monthly_returns = stock['Close'].resample('ME').last().pct_change()\n",
    "        data[ticker] = monthly_returns\n",
    "\n",
    "    return data\n",
    "\n",
    "\n",
    "# Fetch our data\n",
    "returns_df = get_stock_data(tickers)"
   ]
  },
  {
   "cell_type": "markdown",
   "metadata": {},
   "source": [
    "## Demonstrate Diversification Effect\n",
    "Let's create a function that shows how portfolio risk changes as we add more stocks:\n"
   ]
  },
  {
   "cell_type": "code",
   "execution_count": null,
   "metadata": {},
   "outputs": [],
   "source": [
    "def calculate_portfolio_metrics(returns, num_stocks, num_simulations=500):\n",
    "    \"\"\"\n",
    "    Calculates portfolio metrics for different sized portfolios\n",
    "    \"\"\"\n",
    "    portfolio_risks = []\n",
    "\n",
    "    for _ in range(num_simulations):\n",
    "        # Randomly select stocks\n",
    "        selected_stocks = np.random.choice(\n",
    "            returns.columns, num_stocks, replace=False)\n",
    "        portfolio_returns = returns[selected_stocks]\n",
    "\n",
    "        # Equal weight portfolio\n",
    "        weights = np.array([1/num_stocks] * num_stocks)\n",
    "\n",
    "        # Calculate portfolio risk (annualized)\n",
    "        portfolio_std = np.sqrt(np.dot(weights.T, np.dot(\n",
    "            portfolio_returns.cov() * 12, weights))) * 100\n",
    "        portfolio_risks.append(portfolio_std)\n",
    "\n",
    "    return np.mean(portfolio_risks)\n",
    "\n",
    "\n",
    "# Calculate average portfolio risk for different numbers of stocks\n",
    "num_stocks_range = range(1, len(tickers) + 1)\n",
    "portfolio_risks = [calculate_portfolio_metrics(\n",
    "    returns_df, n) for n in num_stocks_range]\n",
    "\n",
    "# Plot results\n",
    "plt.figure(figsize=(10, 6))\n",
    "plt.plot(num_stocks_range, portfolio_risks, 'b-', linewidth=2, marker='o')\n",
    "plt.xlabel('Number of Stocks in Portfolio')\n",
    "plt.ylabel('Portfolio Risk (Annual Std Dev %)')\n",
    "plt.title('Portfolio Risk vs. Number of Stocks')\n",
    "plt.grid(True, linestyle='--', alpha=0.7)\n",
    "plt.show()"
   ]
  },
  {
   "cell_type": "markdown",
   "metadata": {},
   "source": [
    "\n",
    "## Correlation Analysis\n",
    "Understanding correlations is key to diversification:"
   ]
  },
  {
   "cell_type": "code",
   "execution_count": null,
   "metadata": {},
   "outputs": [],
   "source": [
    "def plot_correlation_matrix(returns_df):\n",
    "    \"\"\"\n",
    "    Creates and plots correlation matrix heatmap\n",
    "    \"\"\"\n",
    "    corr_matrix = returns_df.corr()\n",
    "\n",
    "    plt.figure(figsize=(12, 10))\n",
    "    sns.heatmap(corr_matrix, annot=True, cmap='coolwarm', center=0,\n",
    "                fmt='.2f', square=True)\n",
    "    plt.title('Stock Return Correlations')\n",
    "    plt.tight_layout()\n",
    "    plt.show()\n",
    "\n",
    "    return corr_matrix\n",
    "\n",
    "\n",
    "# Plot correlation matrix\n",
    "corr_matrix = plot_correlation_matrix(returns_df)"
   ]
  },
  {
   "cell_type": "markdown",
   "metadata": {},
   "source": [
    "## Compare Individual vs Portfolio Risk\n",
    "Let's compare individual stock risks to portfolio risk:"
   ]
  },
  {
   "cell_type": "code",
   "execution_count": null,
   "metadata": {},
   "outputs": [],
   "source": [
    "def compare_individual_vs_portfolio(returns_df):\n",
    "    \"\"\"\n",
    "    Compares individual stock risks to portfolio risk\n",
    "    \"\"\"\n",
    "    # Calculate individual stock risks\n",
    "    individual_risks = returns_df.std() * np.sqrt(12) * 100\n",
    "\n",
    "    # Calculate equally weighted portfolio risk\n",
    "    weights = np.array([1/len(returns_df.columns)] * len(returns_df.columns))\n",
    "    portfolio_risk = np.sqrt(\n",
    "        np.dot(weights.T, np.dot(returns_df.cov() * 12, weights))) * 100\n",
    "\n",
    "    # Plot comparison\n",
    "    plt.figure(figsize=(10, 6))\n",
    "    plt.barh(range(len(individual_risks)), individual_risks,\n",
    "             alpha=0.5, label='Individual Stock Risk')\n",
    "    plt.axvline(x=portfolio_risk, color='r',\n",
    "                linestyle='--', label='Portfolio Risk')\n",
    "    plt.ylabel('Stocks')\n",
    "    plt.xlabel('Annual Risk (%)')\n",
    "    plt.title('Individual Stock Risk vs Portfolio Risk')\n",
    "    plt.legend()\n",
    "    plt.yticks(range(len(individual_risks)), returns_df.columns)\n",
    "    plt.tight_layout()\n",
    "    plt.show()\n",
    "\n",
    "    return individual_risks, portfolio_risk\n",
    "\n",
    "\n",
    "# Compare risks\n",
    "individual_risks, portfolio_risk = compare_individual_vs_portfolio(returns_df)\n",
    "print(f\"\\nPortfolio Risk: {portfolio_risk:.2f}%\")\n",
    "print(\"\\nIndividual Stock Risks:\")\n",
    "for ticker, risk in zip(returns_df.columns, individual_risks):\n",
    "    print(f\"{ticker}: {risk:.2f}%\")"
   ]
  },
  {
   "cell_type": "markdown",
   "metadata": {},
   "source": [
    "## Systematic vs Unsystematic Risk\n",
    "Let's decompose risk into systematic (market) and unsystematic components:"
   ]
  },
  {
   "cell_type": "code",
   "execution_count": null,
   "metadata": {},
   "outputs": [],
   "source": [
    "def analyze_risk_components(returns_df):\n",
    "    \"\"\"\n",
    "    Analyzes systematic and unsystematic risk components\n",
    "    \"\"\"\n",
    "    # Get market returns (using SPY)\n",
    "    spy_returns = yf.download('SPY',\n",
    "                              start=returns_df.index[0],\n",
    "                              end=returns_df.index[-1],\n",
    "                              progress=False)['Close'].resample('ME').last().pct_change()\n",
    "\n",
    "    # Calculate betas and R-squared for each stock\n",
    "    risk_components = pd.DataFrame(index=returns_df.columns)\n",
    "\n",
    "    for stock in returns_df.columns:\n",
    "        aligned_returns = returns_df[stock].reindex(spy_returns.index).dropna()\n",
    "        aligned_spy_returns = spy_returns['SPY'].loc[aligned_returns.index]\n",
    "\n",
    "        model = np.polyfit(aligned_spy_returns, aligned_returns, 1)\n",
    "        r_squared = 1 - (np.sum((aligned_returns - (model[0]*aligned_spy_returns + model[1]))**2) /\n",
    "                         np.sum((aligned_returns - aligned_returns.mean())**2))\n",
    "\n",
    "        risk_components.loc[stock, 'Systematic Risk (%)'] = r_squared * 100\n",
    "        risk_components.loc[stock, 'Unsystematic Risk (%)'] = (\n",
    "            1 - r_squared) * 100\n",
    "\n",
    "    # Plot results\n",
    "    risk_components.plot(kind='barh', stacked=True, figsize=(12, 6))\n",
    "    plt.title('Decomposition of Risk: Systematic vs Unsystematic')\n",
    "    plt.ylabel('Stocks')\n",
    "    plt.xlabel('Percentage of Total Risk')\n",
    "    plt.legend(bbox_to_anchor=(1.05, 1), loc='upper left')\n",
    "    plt.tight_layout()\n",
    "    plt.show()\n",
    "\n",
    "    # Second plot: share of systematic vs. unsystematic multiplied by the total risk\n",
    "    total_risk = individual_risks.loc[returns_df.columns]\n",
    "    risk_components_scaled = risk_components.multiply(total_risk, axis=0)\n",
    "\n",
    "    risk_components_scaled.plot(kind='barh', stacked=True, figsize=(12, 6))\n",
    "    plt.title('Scaled Decomposition of Risk: Systematic vs Unsystematic')\n",
    "    plt.ylabel('Stocks')\n",
    "    plt.xlabel('Total Risk Contribution')\n",
    "    plt.legend(bbox_to_anchor=(1.05, 1), loc='upper left')\n",
    "    plt.tight_layout()\n",
    "    plt.show()\n",
    "\n",
    "    return risk_components\n",
    "\n",
    "\n",
    "# Analyze risk components\n",
    "risk_components = analyze_risk_components(returns_df)"
   ]
  },
  {
   "cell_type": "markdown",
   "metadata": {},
   "source": [
    "## Exercise for Students\n",
    "1. Try different combinations of stocks and observe the diversification effect\n",
    "2. Calculate the optimal number of stocks needed to achieve most diversification benefits\n",
    "3. Compare diversification effects across different time periods\n",
    "\n",
    "## Discussion Questions\n",
    "1. Why does portfolio risk decrease as we add more stocks?\n",
    "2. What role do correlations play in diversification?\n",
    "3. Why doesn't diversification eliminate all risk?\n",
    "4. How does sector diversification compare to random diversification?\n"
   ]
  }
 ],
 "metadata": {
  "kernelspec": {
   "display_name": "base",
   "language": "python",
   "name": "python3"
  },
  "language_info": {
   "codemirror_mode": {
    "name": "ipython",
    "version": 3
   },
   "file_extension": ".py",
   "mimetype": "text/x-python",
   "name": "python",
   "nbconvert_exporter": "python",
   "pygments_lexer": "ipython3",
   "version": "3.11.9"
  }
 },
 "nbformat": 4,
 "nbformat_minor": 2
}
