{
   "cells": [
      {
         "cell_type": "markdown",
         "metadata": {},
         "source": [
            "# MBA Investment Management – Performance Evaluation Demo\n",
            "\n",
            "In this notebook, we will walk through:\n",
            "1. Downloading stock data and Fama-French factor data\n",
            "2. Constructing a simple portfolio\n",
            "3. Running regressions to get CAPM and multi-factor alphas\n",
            "4. Calculating risk-adjusted performance metrics (Sharpe, Information, Treynor)\n",
            "\n",
            "This follows from the lecture slides on performance evaluation and uses real market data.\n"
         ]
      },
      {
         "cell_type": "markdown",
         "metadata": {},
         "source": [
            "## 1. Imports and Helper Functions\n",
            "We will need a few common libraries: `yfinance`, `pandas_datareader`, `pandas`, `numpy`, `matplotlib`, `statsmodels`."
         ]
      },
      {
         "cell_type": "code",
         "execution_count": null,
         "metadata": {
            "tags": []
         },
         "outputs": [],
         "source": [
            "import warnings\n",
            "warnings.simplefilter(action='ignore', category=FutureWarning)\n",
            "import pandas as pd\n",
            "import numpy as np\n",
            "import datetime as dt\n",
            "import yfinance as yf\n",
            "import matplotlib.pyplot as plt\n",
            "from pandas_datareader import data as web\n",
            "import statsmodels.api as sm\n",
            "\n",
            "# Make plots appear inline (in a Jupyter environment)\n",
            "%matplotlib inline\n",
            "\n",
            "def get_stock_data(tickers, start_date, end_date):\n",
            "    \"\"\"\n",
            "    Download historical stock data (Close prices) for a list of tickers.\n",
            "    Returns daily returns.\n",
            "    \"\"\"\n",
            "    data = yf.download(tickers, start=start_date, end=end_date)[\"Close\"]\n",
            "    returns = data.pct_change().dropna()\n",
            "    return returns\n"
         ]
      },
      {
         "cell_type": "markdown",
         "metadata": {},
         "source": [
            "# Simple Examples\n",
            "Let's start with a simple hypothetical example"
         ]
      },
      {
         "cell_type": "markdown",
         "metadata": {},
         "source": [
            "## Sharpe Ratios"
         ]
      },
      {
         "cell_type": "code",
         "execution_count": null,
         "metadata": {},
         "outputs": [],
         "source": [
            "R_f = 0.02  # 2% risk-free\n",
            "R_pA = 0.12  # 12% portfolio return\n",
            "sigmaA = 0.10\n",
            "R_pB = 0.14  # 14% portfolio return\n",
            "sigmaB = 0.14\n",
            "\n",
            "sharpeA = (R_pA - R_f) / sigmaA\n",
            "sharpeB = (R_pB - R_f) / sigmaB\n",
            "\n",
            "print(f\"Portfolio A Sharpe: {sharpeA:.2f}\")\n",
            "print(f\"Portfolio B Sharpe: {sharpeB:.2f}\")"
         ]
      },
      {
         "cell_type": "markdown",
         "metadata": {},
         "source": [
            "## Blend portoflio to make sigma identical"
         ]
      },
      {
         "cell_type": "code",
         "execution_count": null,
         "metadata": {},
         "outputs": [],
         "source": [
            "# Calculate the weight of stock B in the blended portfolio\n",
            "w_B = sigmaA / sigmaB\n",
            "\n",
            "# Calculate the weight of the risk-free rate\n",
            "w_rf = 1 - w_B\n",
            "\n",
            "# Calculate the return of the blended portfolio\n",
            "R_blended = w_B * R_pB + w_rf * R_f\n",
            "sigma_blended = w_B * sigmaB\n",
            "\n",
            "print(f\"Weight of Stock B: {w_B:.2f}\")\n",
            "print(f\"Weight of Risk-Free Rate: {w_rf:.2f}\")\n",
            "print(f\"Return of Blended Portfolio: {R_blended:.2f}\")\n",
            "print(f\"Standard Deviation of Blended Portfolio: {sigma_blended:.2f}\")"
         ]
      },
      {
         "cell_type": "markdown",
         "metadata": {},
         "source": [
            "## Treynor Ratio"
         ]
      },
      {
         "cell_type": "code",
         "execution_count": null,
         "metadata": {},
         "outputs": [],
         "source": [
            "R_f = 0.02\n",
            "R_pX = 0.12\n",
            "betaX = 0.8\n",
            "R_pY = 0.15\n",
            "betaY = 1.3\n",
            "\n",
            "treynorX = (R_pX - R_f) / betaX\n",
            "treynorY = (R_pY - R_f) / betaY\n",
            "\n",
            "print(f\"Portfolio X Treynor: {treynorX:.2f}\")\n",
            "print(f\"Portfolio Y Treynor: {treynorY:.2f}\")\n"
         ]
      },
      {
         "cell_type": "markdown",
         "metadata": {},
         "source": [
            "## Information Ratio"
         ]
      },
      {
         "cell_type": "code",
         "execution_count": null,
         "metadata": {},
         "outputs": [],
         "source": [
            "alpha_daily = 0.0005       # 0.05% daily alpha\n",
            "sigma_e_daily = 0.01       # 1% daily residual vol\n",
            "\n",
            "IR_daily = alpha_daily / sigma_e_daily\n",
            "\n",
            "# Annualize (assuming ~252 trading days):\n",
            "alpha_annual = alpha_daily * 252\n",
            "resid_annual = sigma_e_daily * (252**0.5)\n",
            "IR_annual = alpha_annual / resid_annual\n",
            "\n",
            "print(f\"Daily residual vol: {sigma_e_daily:.3f}\")\n",
            "print(f\"Daily alpha: {alpha_daily:.3f}\")\n",
            "print(f\"Daily IR: {IR_daily:.3f}\")\n",
            "print(f\"Annual residual vol: {resid_annual:.3f}\")\n",
            "print(f\"Annual Alpha: {alpha_annual:.3f}\")\n",
            "print(f\"Annual IR: {IR_annual:.3f}\")"
         ]
      },
      {
         "cell_type": "markdown",
         "metadata": {},
         "source": [
            "## 2. Data Preparation\n",
            "\n",
            "### 2.1 Download Stock and Market Data\n",
            "Let's get 5 years of daily data for several stocks plus the S&P 500 index (to use as our market portfolio)."
         ]
      },
      {
         "cell_type": "code",
         "execution_count": null,
         "metadata": {},
         "outputs": [],
         "source": [
            "# Define date range - ~5 years of data\n",
            "end_date = dt.datetime.now()\n",
            "start_date = end_date - dt.timedelta(days=5*365)\n",
            "\n",
            "# Define tickers - some popular stocks\n",
            "market_ticker = '^GSPC'  # S&P 500\n",
            "stock_tickers = ['AAPL', 'MSFT', 'AMZN', 'GOOGL', 'META', 'TSLA', 'NVDA', 'JPM', 'V', 'WMT']\n",
            "\n",
            "# Combined list with market first (useful for certain calculations)\n",
            "tickers = [market_ticker] + stock_tickers\n",
            "\n",
            "# Download the data\n",
            "returns = get_stock_data(tickers, start_date, end_date)\n",
            "\n",
            "returns.head()"
         ]
      },
      {
         "cell_type": "markdown",
         "metadata": {},
         "source": [
            "### 2.2 Calculate Excess Returns\n",
            "We assume a constant risk-free rate (annualized 3%) and convert it to a daily rate for simplicity. Then we subtract it from the raw returns to get excess returns."
         ]
      },
      {
         "cell_type": "code",
         "execution_count": null,
         "metadata": {},
         "outputs": [],
         "source": [
            "risk_free_rate_annual = 0.03  # 3% annual\n",
            "risk_free_rate_daily = risk_free_rate_annual / 252  # approximate daily risk-free\n",
            "\n",
            "excess_returns = returns.subtract(risk_free_rate_daily, axis=0)\n",
            "excess_returns.head()"
         ]
      },
      {
         "cell_type": "markdown",
         "metadata": {},
         "source": [
            "### 2.3 Fama-French Data\n",
            "We'll grab the Fama-French 3-Factor data from Kenneth French’s library using `pandas_datareader`. Note that 'F-F_Research_Data_Factors' is provided in monthly frequency. If you want daily factor data, you need a different dataset from the library. For this example, let's proceed with the monthly data. We'll also convert the daily stock returns to monthly to match.\n"
         ]
      },
      {
         "cell_type": "code",
         "execution_count": null,
         "metadata": {},
         "outputs": [],
         "source": [
            "# Get monthly Fama-French 3-factor data (Mkt-RF, SMB, HML, RF)\n",
            "ff_factors = web.DataReader('F-F_Research_Data_Factors', 'famafrench', start='1950')[0]\n",
            "# Convert to decimals\n",
            "ff_factors = ff_factors / 100\n",
            "ff_factors.head()"
         ]
      },
      {
         "cell_type": "markdown",
         "metadata": {},
         "source": [
            "### 2.4 Aligning Frequencies (Converting to Monthly)\n",
            "Because our stock returns are currently daily, let's convert them to monthly (taking the arithmetic sum of daily returns for the month is usually done by `(1 + daily_returns).prod() - 1` for total return over the month). Then we can easily join them with the Fama-French monthly data.\n"
         ]
      },
      {
         "cell_type": "code",
         "execution_count": null,
         "metadata": {},
         "outputs": [],
         "source": [
            "# Convert daily returns to monthly returns\n",
            "monthly_returns = (1 + returns).resample('M').prod() - 1\n",
            "monthly_excess_returns = monthly_returns.subtract(risk_free_rate_annual/12, axis=1)\n",
            "\n",
            "# We'll rename columns so that the market ticker is 'Market'\n",
            "rename_map = {market_ticker: 'Market'}\n",
            "monthly_excess_returns = monthly_excess_returns.rename(columns=rename_map)\n",
            "\n",
            "# Join with Fama-French\n",
            "# Ensure consistent alignment by converting both indices to end-of-month timestamps.\n",
            "\n",
            "ff_data = ff_factors.copy()\n",
            "# Convert Fama-French index to end-of-month timestamps\n",
            "ff_data.index = ff_data.index.to_timestamp('M')\n",
            "\n",
            "# Convert monthly_excess_returns index to end-of-month timestamps (if not already)\n",
            "monthly_excess_returns.index = monthly_excess_returns.index.to_period('M').to_timestamp('M')\n",
            "\n",
            "# Perform the merge\n",
            "combined_data = pd.merge(monthly_excess_returns, ff_data, left_index=True, right_index=True, how='inner')\n",
            "\n",
            "combined_data.head()"
         ]
      },
      {
         "cell_type": "markdown",
         "metadata": {},
         "source": [
            "## 3. Construct a Portfolio\n",
            "For simplicity, let's assume an equally weighted portfolio of our 10 stocks (excluding the market index). We'll compute its monthly returns and then proceed to measure performance.\n"
         ]
      },
      {
         "cell_type": "code",
         "execution_count": null,
         "metadata": {},
         "outputs": [],
         "source": [
            "# List of actual stocks (exclude 'Market' which was ^GSPC)\n",
            "portfolio_stocks = [t for t in monthly_excess_returns.columns if t != 'Market']\n",
            "\n",
            "# Equally weighted portfolio\n",
            "weights = np.array([1/len(portfolio_stocks)]*len(portfolio_stocks))\n",
            "\n",
            "# Calculate portfolio returns (just do a dot product across columns)\n",
            "portfolio_returns = monthly_excess_returns[portfolio_stocks].mul(weights).sum(axis=1)\n",
            "portfolio_returns.name = 'Portfolio'\n",
            "\n",
            "portfolio_returns.head()"
         ]
      },
      {
         "cell_type": "markdown",
         "metadata": {},
         "source": [
            "## 4. Factor Regressions and Alpha\n",
            "We'll run a CAPM regression, then a 3-factor (Fama-French) regression, on our portfolio.\n",
            "\n",
            "### 4.1 CAPM Regression\n",
            "CAPM: \n",
            "\\[\n",
            "r_{p,t} - r_{f,t} = \\alpha + \\beta (r_{m,t} - r_{f,t}) + \\epsilon_t\n",
            "\\]\n",
            "\n",
            "In the Fama-French data, `Mkt-RF` is already `(Market - RF)`. If we want to do a basic CAPM in that style, we can just do:\n",
            "\\[\n",
            "r_{p,t} - r_{f,t} = \\alpha + \\beta (\\text{Mkt-RF}) + \\epsilon_t\n",
            "\\]\n",
            "But note that our `portfolio_returns` are already *excess returns*."
         ]
      },
      {
         "cell_type": "code",
         "execution_count": null,
         "metadata": {},
         "outputs": [],
         "source": [
            "# Merge portfolio returns with factors\n",
            "reg_data = pd.concat([\n",
            "    portfolio_returns,\n",
            "    ff_data['Mkt-RF']\n",
            "], axis=1).dropna()\n",
            "\n",
            "Y = reg_data['Portfolio']  # portfolio excess return\n",
            "X = reg_data['Mkt-RF']\n",
            "X = sm.add_constant(X)\n",
            "\n",
            "capm_model = sm.OLS(Y, X).fit()\n",
            "print(capm_model.summary())"
         ]
      },
      {
         "cell_type": "markdown",
         "metadata": {},
         "source": [
            "### 4.2 Three-Factor Regression\n",
            "Now we extend to the Fama-French 3-factor model:\n",
            "\\[\n",
            "r_{p,t} - r_{f,t} = \\alpha + \\beta (\\text{Mkt-RF}) + s\\,\\text{SMB} + h\\,\\text{HML} + \\epsilon_t\n",
            "\\]\n"
         ]
      },
      {
         "cell_type": "code",
         "execution_count": null,
         "metadata": {},
         "outputs": [],
         "source": [
            "# Merge the portfolio returns with Mkt-RF, SMB, HML\n",
            "ff_3factor_data = pd.concat([\n",
            "    portfolio_returns,\n",
            "    ff_data[['Mkt-RF','SMB','HML']]\n",
            "], axis=1).dropna()\n",
            "\n",
            "Y = ff_3factor_data['Portfolio']\n",
            "X = ff_3factor_data[['Mkt-RF','SMB','HML']]\n",
            "X = sm.add_constant(X)\n",
            "\n",
            "ff3_model = sm.OLS(Y, X).fit()\n",
            "print(ff3_model.summary())"
         ]
      },
      {
         "cell_type": "markdown",
         "metadata": {},
         "source": [
            "## 5. Risk-Adjusted Performance Measures\n",
            "We’ll compute:\n",
            "- **Sharpe Ratio**\n",
            "- **Information Ratio** (relative to CAPM)\n",
            "- **Treynor Ratio**\n",
            "\n",
            "### 5.1 Sharpe Ratio\n",
            "Recall:\n",
            "\\[ \\text{Sharpe Ratio} = \\frac{\\bar{r}_p - r_f}{\\sigma_p} \\]\n",
            "Since we’ve already been working in excess returns, we can just do:\n",
            "\\[ \\text{Sharpe Ratio} = \\frac{\\bar{r}_p}{\\sigma_p} \\]\n",
            "where \\( \\bar{r}_p\\) is the average excess return on the portfolio (monthly if that’s how your data is). We'll then annualize that if needed.\n"
         ]
      },
      {
         "cell_type": "code",
         "execution_count": null,
         "metadata": {},
         "outputs": [],
         "source": [
            "# Monthly average (excess) return of portfolio\n",
            "mean_rp_monthly = portfolio_returns.mean()\n",
            "# Monthly std dev\n",
            "std_rp_monthly = portfolio_returns.std()\n",
            "\n",
            "sharpe_monthly = mean_rp_monthly / std_rp_monthly\n",
            "\n",
            "# If you want an annualized Sharpe ratio for monthly data:\n",
            "# annualized_sharpe = sharpe_monthly * np.sqrt(12)\n",
            "\n",
            "print(\"Monthly Sharpe Ratio = \", round(sharpe_monthly, 4))\n",
            "print(\"Annualized Sharpe Ratio = \", round(sharpe_monthly * np.sqrt(12), 4))"
         ]
      },
      {
         "cell_type": "markdown",
         "metadata": {},
         "source": [
            "### 5.2 Information Ratio\n",
            "The Information Ratio is defined as:\n",
            "\\[ IR = \\frac{\\alpha_p}{\\sigma(\\epsilon_p)} \\]\n",
            "where \\( \\alpha_p \\) is the portfolio’s alpha (e.g., from CAPM) and \\( \\sigma(\\epsilon_p) \\) is the standard deviation of the residual.\n",
            "\n",
            "From our CAPM regression, we can extract alpha and the residuals (i.e., fitted errors)."
         ]
      },
      {
         "cell_type": "code",
         "execution_count": null,
         "metadata": {},
         "outputs": [],
         "source": [
            "# From our CAPM regression:\n",
            "alpha_capm = capm_model.params[\"const\"]\n",
            "residuals = capm_model.resid\n",
            "sigma_e = residuals.std()\n",
            "# From our FF3 regression:\n",
            "alpha_ff3 = ff3_model.params[\"const\"]\n",
            "residuals_ff3 = ff3_model.resid\n",
            "sigma_e_ff3 = residuals_ff3.std()\n",
            "\n",
            "# IR in monthly terms\n",
            "IR_monthly = alpha_capm / sigma_e\n",
            "IR_monthly_ff3 = alpha_ff3 / sigma_e_ff3\n",
            "\n",
            "\n",
            "# If you want to interpret alpha as an annual figure, you might multiply alpha by 12\n",
            "# but should also scale the std dev consistently. We'll just keep everything in monthly.\n",
            "\n",
            "print(\"CAPM\")\n",
            "print(\"CAPM alpha (monthly) =\", round(alpha_capm, 5))\n",
            "print(\"Residual stdev (monthly) =\", round(sigma_e, 5))\n",
            "print(\"Information Ratio (monthly) =\", round(IR_monthly, 4))\n",
            "\n",
            "print(\"FF3\")\n",
            "print(\"FF3 alpha (monthly) =\", round(alpha_ff3, 5))\n",
            "print(\"Residual stdev (monthly) =\", round(sigma_e_ff3, 5))\n",
            "print(\"Information Ratio (monthly) =\", round(IR_monthly_ff3, 4))"
         ]
      },
      {
         "cell_type": "markdown",
         "metadata": {},
         "source": [
            "### 5.3 Treynor Ratio\n",
            "The Treynor ratio uses *beta* rather than total volatility:\n",
            "\\[ T = \\frac{\\bar{r}_p - r_f}{\\beta_p}. \\]\n",
            "Again, we’re working in excess returns for the portfolio, so it is simply:\n",
            "\\[ T = \\frac{\\bar{r}_p}{\\beta_p}. \\]"
         ]
      },
      {
         "cell_type": "code",
         "execution_count": null,
         "metadata": {},
         "outputs": [],
         "source": [
            "# CAPM beta is in capm_model.params[\"Mkt-RF\"]\n",
            "beta_capm = capm_model.params[\"Mkt-RF\"]\n",
            "\n",
            "treynor_monthly = mean_rp_monthly / beta_capm\n",
            "\n",
            "# If needed, you could annualize the numerator. We'll just keep monthly.\n",
            "\n",
            "print(\"CAPM Beta =\", round(beta_capm, 4))\n",
            "print(\"Market Risk Premium (monthly) =\", round(mean_rp_monthly, 5))\n",
            "print(\"Treynor Ratio (monthly) =\", round(treynor_monthly, 5))"
         ]
      },
      {
         "cell_type": "markdown",
         "metadata": {},
         "source": [
            "# Rolling metrics over time"
         ]
      },
      {
         "cell_type": "code",
         "execution_count": null,
         "metadata": {},
         "outputs": [],
         "source": [
            "# 1. Grab data for a portfolio of stocks plus the market\n",
            "end_date = dt.datetime.now()\n",
            "start_date = end_date - dt.timedelta(days=20*365)\n",
            "tickers = [\"AAPL\", \"MSFT\", \"AMZN\", \"TSLA\", \"^GSPC\"]  # last one is market\n",
            "\n",
            "data = yf.download(tickers, start=start_date, end=end_date)['Close']\n",
            "daily_returns = data.pct_change().dropna()\n",
            "\n",
            "# 2. Construct an equally-weighted portfolio of everything EXCEPT the market\n",
            "portfolio_stocks = [\"AAPL\", \"MSFT\", \"AMZN\", \"TSLA\"]\n",
            "weights = np.array([1/len(portfolio_stocks)] * len(portfolio_stocks))\n",
            "\n",
            "portfolio_returns = (daily_returns[portfolio_stocks] * weights).sum(axis=1)\n",
            "\n",
            "# 3. Risk-free rate daily (3%)\n",
            "rf_daily = 0.03 / 252\n",
            "excess_portfolio = portfolio_returns - rf_daily\n",
            "excess_market = daily_returns[\"^GSPC\"] - rf_daily\n",
            "\n",
            "# Suppose 'excess_portfolio' and 'excess_market' are daily Series from above\n",
            "window = 252  # 1-year rolling window\n",
            "\n",
            "rolling_betas = []\n",
            "rolling_alphas = []\n",
            "\n",
            "for start_idx in range(len(excess_portfolio) - window):\n",
            "    end_idx = start_idx + window\n",
            "    y_window = excess_portfolio.iloc[start_idx:end_idx]\n",
            "    x_window = excess_market.iloc[start_idx:end_idx]\n",
            "    X_w = sm.add_constant(x_window)\n",
            "    model = sm.OLS(y_window, X_w).fit()\n",
            "    rolling_alphas.append(model.params[\"const\"])\n",
            "    rolling_betas.append(model.params[x_window.name])\n",
            "\n",
            "rolling_alphas_series = pd.Series(rolling_alphas,\n",
            "                                  index=excess_portfolio.index[window:])\n",
            "rolling_betas_series = pd.Series(rolling_betas,\n",
            "                                 index=excess_portfolio.index[window:])\n",
            "\n",
            "# Now you can plot them:\n",
            "rolling_alphas_series.plot(title=\"Rolling 1-Year CAPM Alpha\")"
         ]
      },
      {
         "cell_type": "code",
         "execution_count": null,
         "metadata": {},
         "outputs": [],
         "source": [
            "rolling_betas_series.plot(title=\"Rolling 1-Year CAPM Beta\")"
         ]
      },
      {
         "cell_type": "markdown",
         "metadata": {},
         "source": [
            "#  Brimson's Decomposition"
         ]
      },
      {
         "cell_type": "code",
         "execution_count": null,
         "metadata": {},
         "outputs": [],
         "source": [
            "\n",
            "\n",
            "\n",
            "def brinson_decomposition(df):\n",
            "    \"\"\"\n",
            "    Given a DataFrame df with columns:\n",
            "        'w_p': portfolio weight in each asset class\n",
            "        'r_p': portfolio return in each asset class\n",
            "        'w_b': benchmark weight in each asset class\n",
            "        'r_b': benchmark return in each asset class\n",
            "    this function computes and returns the Brinson decomposition:\n",
            "      1) Asset Allocation\n",
            "      2) Selection\n",
            "      3) Interaction\n",
            "    plus the total difference in returns.\n",
            "    \"\"\"\n",
            "    # Total portfolio and benchmark returns\n",
            "    r_p = (df['w_p'] * df['r_p']).sum()\n",
            "    r_b = (df['w_b'] * df['r_b']).sum()\n",
            "\n",
            "    # Decomposition components\n",
            "    asset_allocation = ((df['w_p'] - df['w_b']) * df['r_b']).sum()\n",
            "    selection = (df['w_b'] * (df['r_p'] - df['r_b'])).sum()\n",
            "    interaction = ((df['w_p'] - df['w_b']) * (df['r_p'] - df['r_b'])).sum()\n",
            "\n",
            "    # Total difference in returns\n",
            "    total_diff = r_p - r_b\n",
            "\n",
            "    return {\n",
            "        'Portfolio Return': r_p,\n",
            "        'Benchmark Return': r_b,\n",
            "        'Asset Allocation': asset_allocation,\n",
            "        'Selection': selection,\n",
            "        'Interaction': interaction,\n",
            "        'Total Difference': total_diff\n",
            "    }\n",
            "\n",
            "\n",
            "# EXAMPLE USAGE:\n",
            "# -------------------------------------------------\n",
            "# Imagine we have a small universe of 3 “asset classes” (or sectors).\n",
            "# Create a DataFrame with columns for portfolio weights/returns\n",
            "# and benchmark weights/returns:\n",
            "\n",
            "data = {\n",
            "    'AssetClass':    ['Equity', 'Bond', 'RealEstate'],\n",
            "    'w_p':           [0.60,      0.30,   0.10],   # Portfolio weights\n",
            "    'r_p':           [0.10,      0.02,   0.08],   # Portfolio returns\n",
            "    'w_b':           [0.50,      0.40,   0.10],   # Benchmark weights\n",
            "    'r_b':           [0.08,      0.03,   0.07]    # Benchmark returns\n",
            "}\n",
            "\n",
            "df_brinson = pd.DataFrame(data).set_index('AssetClass')\n",
            "\n",
            "# Perform Brinson decomposition\n",
            "results = brinson_decomposition(df_brinson)\n",
            "\n",
            "print(\"Brinson Decomposition Results:\")\n",
            "for k, v in results.items():\n",
            "    print(f\"{k}: {v:.4f}\")"
         ]
      },
      {
         "cell_type": "markdown",
         "metadata": {},
         "source": [
            "# Things to try out:\n",
            "\n",
            "1. Compare to sector investments (ETFs)\n",
            "    - XLK (tech)\n",
            "    - XLF (financials)\n",
            "    - XLY (consumer discretionary)\n",
            "    - XLU (utilities)\n",
            "    - XLP (consumer staples)\n",
            "    - XLV (healthcare)\n",
            "    - XLI (industrials)\n",
            "    - XLRE (real estate)\n",
            "    - XLC (communication services)\n",
            "    - XLE (energy)\n",
            "    - XLB (materials)\n",
            "2. Compare across different portfolio investments\n",
            "3. Look at longer time horizons"
         ]
      },
      {
         "cell_type": "markdown",
         "metadata": {},
         "source": []
      },
      {
         "cell_type": "code",
         "execution_count": null,
         "metadata": {},
         "outputs": [],
         "source": []
      }
   ],
   "metadata": {
      "kernelspec": {
         "display_name": "base",
         "language": "python",
         "name": "python3"
      },
      "language_info": {
         "codemirror_mode": {
            "name": "ipython",
            "version": 3
         },
         "file_extension": ".py",
         "mimetype": "text/x-python",
         "name": "python",
         "nbconvert_exporter": "python",
         "pygments_lexer": "ipython3",
         "version": "3.11.9"
      }
   },
   "nbformat": 4,
   "nbformat_minor": 4
}
